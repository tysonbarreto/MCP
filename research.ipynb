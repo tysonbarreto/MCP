{
 "cells": [
  {
   "cell_type": "code",
   "execution_count": 1,
   "metadata": {},
   "outputs": [],
   "source": [
    "def string_stream(s, separators=\"\\n\"):\n",
    "    start = 0\n",
    "    for end in range(len(s)):\n",
    "        if s[end] in separators:\n",
    "            yield s[start:end]\n",
    "            start = end + 1\n",
    "    if start < end:\n",
    "        yield s[start:end+1]"
   ]
  },
  {
   "cell_type": "code",
   "execution_count": 2,
   "metadata": {},
   "outputs": [],
   "source": [
    "stream = string_stream(\"foo\\tbar\\nbaz\\n\", \"\\t\\n\")"
   ]
  },
  {
   "cell_type": "code",
   "execution_count": null,
   "metadata": {},
   "outputs": [
    {
     "name": "stdout",
     "output_type": "stream",
     "text": [
      "T"
     ]
    },
    {
     "name": "stdout",
     "output_type": "stream",
     "text": [
      "his is just a test :P"
     ]
    }
   ],
   "source": [
    "import sys\n",
    "from time import sleep\n",
    "\n",
    "words = \"This is just a test :P\"\n",
    "for char in words:\n",
    "    sleep(0.15)\n",
    "    #print(char, end=\"\", flush=True)\n",
    "    sys.stdout.write(char)\n",
    "    #sys.stdout.flush()\n"
   ]
  }
 ],
 "metadata": {
  "kernelspec": {
   "display_name": ".venv",
   "language": "python",
   "name": "python3"
  },
  "language_info": {
   "codemirror_mode": {
    "name": "ipython",
    "version": 3
   },
   "file_extension": ".py",
   "mimetype": "text/x-python",
   "name": "python",
   "nbconvert_exporter": "python",
   "pygments_lexer": "ipython3",
   "version": "3.13.4"
  }
 },
 "nbformat": 4,
 "nbformat_minor": 2
}
